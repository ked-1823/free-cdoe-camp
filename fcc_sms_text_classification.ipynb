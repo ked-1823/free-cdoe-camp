{
  "cells": [
    {
      "cell_type": "code",
      "source": [
        "# Uninstall everything that might conflict\n",
        "!pip uninstall -y tensorflow tf-nightly keras-nightly tensorflow-datasets\n",
        "\n",
        "# Install a compatible version\n",
        "!pip install tensorflow==2.20.0 tensorflow-datasets==4.9.9\n"
      ],
      "metadata": {
        "id": "NQ--7kTSS7Hp"
      },
      "execution_count": null,
      "outputs": []
    },
    {
      "cell_type": "code",
      "source": [
        "import tensorflow as tf\n",
        "import tensorflow_datasets as tfds\n",
        "import pandas as pd\n",
        "import numpy as np\n",
        "import matplotlib.pyplot as plt\n",
        "\n",
        "print(tf.__version__)  # Should show 2.20.0\n"
      ],
      "metadata": {
        "id": "OqLuRnW6TLlc"
      },
      "execution_count": null,
      "outputs": []
    },
    {
      "cell_type": "code",
      "execution_count": null,
      "metadata": {
        "id": "lMHwYXHXCar3"
      },
      "outputs": [],
      "source": [
        "# get data files\n",
        "!wget https://cdn.freecodecamp.org/project-data/sms/train-data.tsv\n",
        "!wget https://cdn.freecodecamp.org/project-data/sms/valid-data.tsv\n",
        "\n",
        "train_file_path = \"train-data.tsv\"\n",
        "test_file_path = \"valid-data.tsv\""
      ]
    },
    {
      "cell_type": "code",
      "execution_count": null,
      "metadata": {
        "id": "zOMKywn4zReN"
      },
      "outputs": [],
      "source": [
        "import pandas as pd\n",
        "\n",
        "# Read TSV with proper column names\n",
        "df = pd.read_csv('train-data.tsv', sep='\\t', names=['label', 'message'], on_bad_lines='skip')\n",
        "\n",
        "# Check the first few rows\n",
        "print(df.head())\n",
        "print(df.shape)\n"
      ]
    },
    {
      "cell_type": "code",
      "source": [
        "import pandas as pd\n",
        "\n",
        "# Load valid dataset with proper column names\n",
        "valid_df = pd.read_csv('valid-data.tsv', sep='\\t', names=['label','message'], on_bad_lines='skip')\n",
        "\n",
        "print(valid_df.head())\n",
        "print(\"Shape:\", valid_df.shape)\n",
        "print(\"Labels distribution:\\n\", valid_df['label'].value_counts())\n"
      ],
      "metadata": {
        "id": "PKGb1EtTVHl3"
      },
      "execution_count": null,
      "outputs": []
    },
    {
      "cell_type": "code",
      "source": [
        "from sklearn.feature_extraction.text import TfidfVectorizer\n",
        "tdf=TfidfVectorizer()\n",
        "x_train=tdf.fit_transform(df['message'])\n",
        "x_valid=tdf.transform(valid_df['message'])\n"
      ],
      "metadata": {
        "id": "ugWXfVe0WYRl"
      },
      "execution_count": null,
      "outputs": []
    },
    {
      "cell_type": "code",
      "source": [
        "y_train=df['label'].map({'ham':0,'spam':1})\n",
        "y_valid=valid_df['label'].map({'ham':0,'spam':1})"
      ],
      "metadata": {
        "id": "0OZgzo3lXe4c"
      },
      "execution_count": null,
      "outputs": []
    },
    {
      "cell_type": "code",
      "source": [
        "from sklearn.linear_model import LogisticRegression\n",
        "model=LogisticRegression(max_iter=1000)\n",
        "model.fit(x_train,y_train)"
      ],
      "metadata": {
        "id": "SJyLzo6bXAyU"
      },
      "execution_count": null,
      "outputs": []
    },
    {
      "cell_type": "code",
      "source": [
        "from sklearn.metrics import accuracy_score, classification_report\n",
        "pred=model.predict(x_valid)\n",
        "print('acc:',accuracy_score(y_valid,pred))\n",
        "print('acc:',classification_report(y_valid,pred))"
      ],
      "metadata": {
        "id": "5WOj86lBX4jW"
      },
      "execution_count": null,
      "outputs": []
    },
    {
      "cell_type": "code",
      "execution_count": null,
      "metadata": {
        "id": "J9tD9yACG6M9"
      },
      "outputs": [],
      "source": [
        "# function to predict messages based on model\n",
        "# (should return list containing prediction and label, ex. [0.008318834938108921, 'ham'])\n",
        "\n",
        "# Function to predict a single message\n",
        "def predict_message(pred_text):\n",
        "    # 1. Transform the text using the same TF-IDF vectorizer\n",
        "    X = tdf.transform([pred_text])\n",
        "\n",
        "    # 2. Predict probability of spam (1)\n",
        "    prob_spam = model.predict_proba(X)[0][1]  # probability for class 'spam'\n",
        "\n",
        "    # 3. Predict class label\n",
        "    label_num = model.predict(X)[0]\n",
        "    label = 'spam' if label_num == 1 else 'ham'\n",
        "\n",
        "    # 4. Return list: [probability_spam, label]\n",
        "    return [prob_spam, label]\n",
        "\n",
        "# Example usage\n",
        "pred_text = \"how are you doing today?\"\n",
        "prediction = predict_message(pred_text)\n",
        "print(prediction)\n"
      ]
    },
    {
      "cell_type": "code",
      "execution_count": null,
      "metadata": {
        "id": "Dxotov85SjsC"
      },
      "outputs": [],
      "source": [
        "# Run this cell to test your function and model. Do not modify contents.\n",
        "def test_predictions():\n",
        "  test_messages = [\"how are you doing today\",\n",
        "                   \"sale today! to stop texts call 98912460324\",\n",
        "                   \"i dont want to go. can we try it a different day? available sat\",\n",
        "                   \"our new mobile video service is live. just install on your phone to start watching.\",\n",
        "                   \"you have won £1000 cash! call to claim your prize.\",\n",
        "                   \"i'll bring it tomorrow. don't forget the milk.\",\n",
        "                   \"wow, is your arm alright. that happened to me one time too\"\n",
        "                  ]\n",
        "\n",
        "  test_answers = [\"ham\", \"spam\", \"ham\", \"spam\", \"spam\", \"ham\", \"ham\"]\n",
        "  passed = True\n",
        "\n",
        "  for msg, ans in zip(test_messages, test_answers):\n",
        "    prediction = predict_message(msg)\n",
        "    if prediction[1] != ans:\n",
        "      passed = False\n",
        "\n",
        "  if passed:\n",
        "    print(\"You passed the challenge. Great job!\")\n",
        "  else:\n",
        "    print(\"You haven't passed yet. Keep trying.\")\n",
        "\n",
        "test_predictions()\n"
      ]
    }
  ],
  "metadata": {
    "colab": {
      "name": "fcc_sms_text_classification.ipynb",
      "private_outputs": true,
      "provenance": []
    },
    "kernelspec": {
      "display_name": "Python 3",
      "name": "python3"
    },
    "language_info": {}
  },
  "nbformat": 4,
  "nbformat_minor": 0
}