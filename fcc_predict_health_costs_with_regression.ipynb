{
  "cells": [
    {
      "cell_type": "code",
      "execution_count": null,
      "metadata": {
        "id": "1rRo8oNqZ-Rj"
      },
      "outputs": [],
      "source": [
        "# Import libraries. You may or may not use all of these.\n",
        "!pip install -q git+https://github.com/tensorflow/docs\n",
        "import matplotlib.pyplot as plt\n",
        "import numpy as np\n",
        "import pandas as pd\n",
        "\n",
        "try:\n",
        "  # %tensorflow_version only exists in Colab.\n",
        "  %tensorflow_version 2.x\n",
        "except Exception:\n",
        "  pass\n",
        "import tensorflow as tf\n",
        "\n",
        "from tensorflow import keras\n",
        "from tensorflow.keras import layers\n",
        "\n",
        "import tensorflow_docs as tfdocs\n",
        "import tensorflow_docs.plots\n",
        "import tensorflow_docs.modeling"
      ]
    },
    {
      "cell_type": "code",
      "execution_count": null,
      "metadata": {
        "id": "CiX2FI4gZtTt"
      },
      "outputs": [],
      "source": [
        "# Import data\n",
        "!wget https://cdn.freecodecamp.org/project-data/health-costs/insurance.csv\n",
        "dataset = pd.read_csv('insurance.csv')\n",
        "dataset.tail()"
      ]
    },
    {
      "cell_type": "code",
      "execution_count": null,
      "metadata": {
        "id": "LcopvQh3X-kX"
      },
      "outputs": [],
      "source": [
        "X= dataset.drop('expenses', axis=1).values  # Features\n",
        "y = dataset['expenses'].values               # Labels\n"
      ]
    },
    {
      "cell_type": "code",
      "source": [
        "from sklearn.model_selection import train_test_split\n",
        "\n",
        "X_train, X_test, y_train, y_test = train_test_split(\n",
        "    X, y, test_size=0.2, random_state=42\n",
        ")\n"
      ],
      "metadata": {
        "id": "JIQFxX9PUUv2"
      },
      "execution_count": null,
      "outputs": []
    },
    {
      "cell_type": "code",
      "source": [
        "from sklearn.preprocessing import MinMaxScaler\n",
        "\n",
        "feature_scaler = MinMaxScaler()\n",
        "label_scaler = MinMaxScaler()\n",
        "\n",
        "X_train_scaled = feature_scaler.fit_transform(X_train)\n",
        "X_test_scaled = feature_scaler.transform(X_test)\n",
        "\n",
        "y_train_scaled = label_scaler.fit_transform(y_train.reshape(-1,1))\n",
        "y_test_scaled = label_scaler.transform(y_test.reshape(-1,1))\n"
      ],
      "metadata": {
        "id": "eiMdHX3rUtiW"
      },
      "execution_count": null,
      "outputs": []
    },
    {
      "cell_type": "code",
      "source": [
        "from tensorflow.keras.models import Sequential\n",
        "from tensorflow.keras.layers import Dense\n",
        "\n",
        "model=tf.keras.Sequential([\n",
        "    Dense(128,activation='relu',input_shape=(X_train_scaled.shape[1],)),\n",
        "    Dense(64,activation='relu'),\n",
        "    Dense(32,activation='relu'),\n",
        "    Dense(64,activation='relu'),\n",
        "    Dense(1)\n",
        "\n",
        "])\n",
        "model.compile(optimizer='adam',loss='mean_absolute_error',metrics=['mae'])\n",
        "history=model.fit(\n",
        "    X_train_scaled, y_train_scaled,\n",
        "    validation_split=0.2,\n",
        "    epochs=10,\n",
        "    batch_size=32,\n",
        "    verbose=2\n",
        ")"
      ],
      "metadata": {
        "id": "_w2YZIcLVCL7"
      },
      "execution_count": null,
      "outputs": []
    },
    {
      "cell_type": "code",
      "execution_count": null,
      "metadata": {
        "id": "Xe7RXH3N3CWU"
      },
      "outputs": [],
      "source": [
        "# Evaluate the model on test data\n",
        "loss, mae = model.evaluate(X_test_scaled, y_test_scaled, verbose=2)\n",
        "print(\"Scaled testing set Mean Abs Error:\", mae)\n",
        "\n",
        "# Convert predictions back to original scale\n",
        "test_predictions_scaled = model.predict(X_test_scaled)\n",
        "test_predictions = label_scaler.inverse_transform(test_predictions_scaled)\n",
        "y_test_orig = label_scaler.inverse_transform(y_test_scaled)\n",
        "\n",
        "# Compute MAE in original units\n",
        "from sklearn.metrics import mean_absolute_error\n",
        "mae_orig = mean_absolute_error(y_test_orig, test_predictions)\n",
        "print(\"Testing set Mean Abs Error: {:5.2f} expenses\".format(mae_orig))\n",
        "\n",
        "if mae_orig < 3500:\n",
        "    print(\"You passed the challenge. Great job!\")\n",
        "else:\n",
        "    print(\"The Mean Abs Error must be less than 3500. Keep trying.\")\n",
        "\n",
        "# Plot predictions\n",
        "import matplotlib.pyplot as plt\n",
        "\n",
        "a = plt.axes(aspect='equal')\n",
        "plt.scatter(y_test_orig, test_predictions)\n",
        "plt.xlabel('True values (expenses)')\n",
        "plt.ylabel('Predictions (expenses)')\n",
        "lims = [0, 50000]\n",
        "plt.xlim(lims)\n",
        "plt.ylim(lims)\n",
        "_ = plt.plot(lims, lims)\n"
      ]
    }
  ],
  "metadata": {
    "colab": {
      "name": "fcc_predict_health_costs_with_regression.ipynb",
      "private_outputs": true,
      "provenance": [],
      "toc_visible": true
    },
    "kernelspec": {
      "display_name": "Python 3",
      "name": "python3"
    }
  },
  "nbformat": 4,
  "nbformat_minor": 0
}